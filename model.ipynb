{
 "cells": [
  {
   "cell_type": "markdown",
   "id": "c3362ee1-5c38-4424-b01c-627f0c8f2c76",
   "metadata": {},
   "source": [
    "- Département : 35\n",
    "- Commune : Saint-Malo\n",
    "- Section cadastrale : BP\n",
    "- Parcelle cadastrale : \n",
    "- Date mutation : 01/01/2019 - 31/12/2023"
   ]
  },
  {
   "cell_type": "code",
   "execution_count": null,
   "id": "63ce62b7-5da5-4356-9121-0c09f92a79cf",
   "metadata": {},
   "outputs": [],
   "source": [
    "# adresse =>\n",
    "# rayon x km \n",
    "# date\n",
    "# type maison ou appartement\n",
    "# géorisque oui / non (valide transactions après XX)"
   ]
  },
  {
   "cell_type": "code",
   "execution_count": null,
   "id": "055bd676-e0a8-43e7-b815-77085be5d20c",
   "metadata": {},
   "outputs": [],
   "source": [
    "#!pip install requests"
   ]
  },
  {
   "cell_type": "code",
   "execution_count": null,
   "id": "256e8df4-a16e-4beb-b337-14b5338cf64b",
   "metadata": {},
   "outputs": [],
   "source": [
    "import requests"
   ]
  },
  {
   "cell_type": "code",
   "execution_count": 1,
   "id": "0e57a9fa-4099-48d5-b891-ec8f46d40915",
   "metadata": {},
   "outputs": [],
   "source": [
    "# APIs root entry points\n",
    "\n",
    "url_dvf = 'https://acceslibre.beta.gouv.fr/api/erps/?zone=4.849022,44.885530,4.982661,44.963994'\n",
    "url_georisque = 'https://georisques.gouv.fr/api'\n",
    "\n",
    "#https://www.georisques.gouv.fr/doc-api#/CATNAT/rechercheCatNat"
   ]
  },
  {
   "cell_type": "code",
   "execution_count": null,
   "id": "b6f9974a-5f1e-4c55-b22e-f5abfca78f28",
   "metadata": {},
   "outputs": [],
   "source": [
    "# Get request\n",
    "headers = {\"accept\": \"application/geo+json\",\"Authorization\": \"Api-Key <YOUR_API_KEY>\"}"
   ]
  },
  {
   "cell_type": "code",
   "execution_count": null,
   "id": "a4542ede-d264-436b-8cb9-9bde8751a6b0",
   "metadata": {},
   "outputs": [],
   "source": [
    "# Check if the request was successful\n",
    "if response.status_code == 200:\n",
    "    # Parse the JSON response\n",
    "    data = response.json()\n",
    "    print(data)\n",
    "else:\n",
    "    print(f\"Request failed with status code: {response.status_code}\")\n",
    "    print(response.text)"
   ]
  },
  {
   "cell_type": "code",
   "execution_count": null,
   "id": "51bf23a7-24e9-4600-928b-17905ae09816",
   "metadata": {},
   "outputs": [],
   "source": []
  },
  {
   "cell_type": "code",
   "execution_count": null,
   "id": "15162714-71b0-4a9c-a38a-6828097b40d5",
   "metadata": {},
   "outputs": [],
   "source": []
  }
 ],
 "metadata": {
  "kernelspec": {
   "display_name": "Python 3 (ipykernel)",
   "language": "python",
   "name": "python3"
  },
  "language_info": {
   "codemirror_mode": {
    "name": "ipython",
    "version": 3
   },
   "file_extension": ".py",
   "mimetype": "text/x-python",
   "name": "python",
   "nbconvert_exporter": "python",
   "pygments_lexer": "ipython3",
   "version": "3.10.6"
  }
 },
 "nbformat": 4,
 "nbformat_minor": 5
}
