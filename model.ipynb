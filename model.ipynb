{
 "cells": [
  {
   "cell_type": "markdown",
   "id": "c3362ee1-5c38-4424-b01c-627f0c8f2c76",
   "metadata": {},
   "source": [
    "- Département : 35\n",
    "- Commune : Saint-Malo\n",
    "- Section cadastrale : BP\n",
    "- Parcelle cadastrale : \n",
    "- Date mutation : 01/01/2019 - 31/12/2023"
   ]
  },
  {
   "cell_type": "code",
   "execution_count": 6,
   "id": "f5115244-ce79-47e7-bd13-4f09c9229718",
   "metadata": {},
   "outputs": [],
   "source": [
    "import pandas as pd\n",
    "import os"
   ]
  },
  {
   "cell_type": "markdown",
   "id": "85809bf1-7b85-460c-a781-49a7c3a79f4e",
   "metadata": {},
   "source": [
    "# adresse =>\n",
    "# rayon x km \n",
    "# date\n",
    "# type maison ou appartement\n",
    "# géorisque oui / non (valide transactions après XX)"
   ]
  },
  {
   "cell_type": "code",
   "execution_count": null,
   "id": "055bd676-e0a8-43e7-b815-77085be5d20c",
   "metadata": {},
   "outputs": [],
   "source": [
    "#!pip install requests"
   ]
  },
  {
   "cell_type": "code",
   "execution_count": 7,
   "id": "0e57a9fa-4099-48d5-b891-ec8f46d40915",
   "metadata": {},
   "outputs": [],
   "source": [
    "import requests\n",
    "api_key = open('key1.txt','r').read().strip('\\n')\n",
    "# APIs root entry points\n",
    "url_georisque = 'https://georisques.gouv.fr/api'\n",
    "#https://www.georisques.gouv.fr/doc-api#/CATNAT/rechercheCatNat\n",
    "# Get request\n",
    "headers = {\"accept\": \"application/geo+json\",\"Authorization\": f'Api-Key {api_key}'}\n",
    "response = requests.get(url_dvf, headers=headers)\n",
    "response.json()"
   ]
  },
  {
   "cell_type": "code",
   "execution_count": 55,
   "id": "e1be902e-1773-4ed3-b0af-45be9b597568",
   "metadata": {},
   "outputs": [],
   "source": [
    "DATA_DIR_PATH = 'data'"
   ]
  },
  {
   "cell_type": "code",
   "execution_count": 56,
   "id": "aa29f284-5521-4f40-ad11-5f3e73055c2b",
   "metadata": {},
   "outputs": [],
   "source": [
    "# Import data\n",
    "\n",
    "for file in os.scandir(DATA_DIR_PATH):\n",
    "    if file.name.endswith('.csv'):\n",
    "        dfs.append(pd.read_csv(os.path.join(DATA_DIR_PATH, file.name), sep=';'))\n",
    "df = pd.concat(dfs, ignore_index=True)"
   ]
  },
  {
   "cell_type": "code",
   "execution_count": 15,
   "id": "00662819-6040-4ac5-a615-9aff520a873d",
   "metadata": {},
   "outputs": [],
   "source": [
    "BM_df = pd.read_csv(os.path.join('data', '35288_000BM.csv'), sep=';')\n",
    "BL_df = pd.read_csv(os.path.join('data', '35288_000BL.csv'), sep=';')\n",
    "BN_df = pd.read_csv(os.path.join('data', '35288_000BN.csv'), sep=';')\n",
    "BR_df = pd.read_csv(os.path.join('data', '35288_000BR.csv'), sep=';')\n",
    "BP_df = pd.read_csv(os.path.join('data', '35288_000BP.csv'), sep=';')"
   ]
  },
  {
   "cell_type": "code",
   "execution_count": null,
   "id": "764f3235-db02-4306-97b0-55a82c4c4127",
   "metadata": {},
   "outputs": [],
   "source": []
  },
  {
   "cell_type": "code",
   "execution_count": 52,
   "id": "812364c9-9072-47ca-8012-6d8abf8866da",
   "metadata": {},
   "outputs": [
    {
     "data": {
      "text/plain": [
       "['35288_000BM.csv',\n",
       " '35288_000BL.csv',\n",
       " '35288_000BN.csv',\n",
       " '35288_000BR.csv',\n",
       " '35288_000BP.csv']"
      ]
     },
     "execution_count": 52,
     "metadata": {},
     "output_type": "execute_result"
    }
   ],
   "source": []
  },
  {
   "cell_type": "code",
   "execution_count": 53,
   "id": "5dd494f1-562f-45a9-a46b-24970144b20b",
   "metadata": {},
   "outputs": [],
   "source": [
    "# Import data \n",
    "\n",
    "csv_file_list = [file.name for file in os.scandir(DIR_PATH) if file.name.endswith('.csv')]\n",
    "\n",
    "df = pd.DataFrame()\n",
    "\n",
    "for file in csv_file_list:\n",
    "    new_file = pd.read_csv(os.path.join(DIR_PATH, file), sep=';')\n",
    "    df = pd.concat([df,new_file], ignore_index=True)"
   ]
  },
  {
   "cell_type": "code",
   "execution_count": null,
   "id": "1b60e31b-64e7-4b2f-91bd-d9d9382d865f",
   "metadata": {},
   "outputs": [],
   "source": []
  },
  {
   "cell_type": "code",
   "execution_count": null,
   "id": "d49b2b29-7a5d-4c6f-bdf7-51b89c45cdd8",
   "metadata": {},
   "outputs": [],
   "source": []
  }
 ],
 "metadata": {
  "kernelspec": {
   "display_name": "Python 3 (ipykernel)",
   "language": "python",
   "name": "python3"
  },
  "language_info": {
   "codemirror_mode": {
    "name": "ipython",
    "version": 3
   },
   "file_extension": ".py",
   "mimetype": "text/x-python",
   "name": "python",
   "nbconvert_exporter": "python",
   "pygments_lexer": "ipython3",
   "version": "3.10.6"
  }
 },
 "nbformat": 4,
 "nbformat_minor": 5
}
